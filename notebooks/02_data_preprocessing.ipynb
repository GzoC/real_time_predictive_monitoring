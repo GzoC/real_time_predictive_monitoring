{
 "cells": [
  {
   "cell_type": "code",
   "execution_count": null,
   "metadata": {},
   "outputs": [],
   "source": [
    "# Asegura que la carpeta raíz del proyecto esté en el sistema de paths de Python\n",
    "import sys\n",
    "import os\n",
    "\n",
    "# Ruta absoluta a la raíz del proyecto\n",
    "proyecto_root = os.path.abspath(os.path.join(\"..\"))  # .. porque estás en notebooks/\n",
    "if proyecto_root not in sys.path:\n",
    "    sys.path.append(proyecto_root)\n",
    "\n",
    "from src.preprocessing import load_data, clean_data, feature_engineering, scale_and_split\n",
    "\n",
    "# Ejemplo de uso rápido:\n",
    "data_path = \"../data/raw/sensor_data.csv\"\n",
    "\n",
    "# Cargamos los datos desde un archivo CSV\n",
    "df = load_data(data_path)\n",
    "\n",
    "# Eliminamos datos faltantes si los hubiera\n",
    "df = clean_data(df)\n",
    "\n",
    "# Creamos nuevas variables basadas en el timestamp\n",
    "df = feature_engineering(df)\n",
    "\n",
    "# Escalamos los datos y los dividimos en entrenamiento y prueba\n",
    "X_train_scaled, X_test_scaled, y_train, y_test = scale_and_split(df, target='falla')\n"
   ]
  }
 ],
 "metadata": {
  "kernelspec": {
   "display_name": "real_time_predictive_monitoring",
   "language": "python",
   "name": "python3"
  },
  "language_info": {
   "codemirror_mode": {
    "name": "ipython",
    "version": 3
   },
   "file_extension": ".py",
   "mimetype": "text/x-python",
   "name": "python",
   "nbconvert_exporter": "python",
   "pygments_lexer": "ipython3",
   "version": "3.10.13"
  }
 },
 "nbformat": 4,
 "nbformat_minor": 2
}
