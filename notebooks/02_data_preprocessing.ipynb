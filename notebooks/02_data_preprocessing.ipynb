{
 "cells": [
  {
   "cell_type": "code",
   "execution_count": 1,
   "metadata": {},
   "outputs": [],
   "source": [
    "# Librerías esenciales para el preprocesamiento de datos\n",
    "import pandas as pd                            # Manipulación de datasets\n",
    "import numpy as np                             # Operaciones numéricas\n",
    "from sklearn.model_selection import train_test_split   # División del dataset\n",
    "from sklearn.preprocessing import StandardScaler       # Escalado estándar de características\n",
    "import os                                      # Manejo de rutas y archivos\n",
    "\n",
    "# Configuración general\n",
    "pd.set_option('display.max_columns', None)     # Visualizar todas las columnas del dataset\n"
   ]
  }
 ],
 "metadata": {
  "kernelspec": {
   "display_name": "real_time_predictive_monitoring",
   "language": "python",
   "name": "python3"
  },
  "language_info": {
   "codemirror_mode": {
    "name": "ipython",
    "version": 3
   },
   "file_extension": ".py",
   "mimetype": "text/x-python",
   "name": "python",
   "nbconvert_exporter": "python",
   "pygments_lexer": "ipython3",
   "version": "3.10.13"
  }
 },
 "nbformat": 4,
 "nbformat_minor": 2
}
