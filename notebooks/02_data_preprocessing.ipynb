{
 "cells": [
  {
   "cell_type": "code",
   "execution_count": 2,
   "metadata": {},
   "outputs": [],
   "source": [
    "import sys\n",
    "import os\n",
    "\n",
    "project_root = os.path.abspath(os.path.join(os.getcwd(), '..'))\n",
    "if project_root not in sys.path:\n",
    "    sys.path.append(project_root)\n",
    "\n",
    "import pandas as pd\n",
    "import os\n",
    "from src.preprocessing import load_data, clean_data, feature_engineering, scale_and_split\n",
    "from src.config import RAW_DATA_PATH, PROCESSED_DATA_PATH\n",
    "from src.logger import logger\n",
    "from src.utils import validar_dataframe\n",
    "\n",
    "pd.set_option('display.max_columns', None)\n"
   ]
  },
  {
   "cell_type": "code",
   "execution_count": 3,
   "metadata": {},
   "outputs": [
    {
     "name": "stderr",
     "output_type": "stream",
     "text": [
      "2025-04-02 22:22:28,400 [INFO] Datos crudos cargados.\n",
      "2025-04-02 22:22:28,404 [INFO] Dataset validado correctamente.\n"
     ]
    },
    {
     "data": {
      "text/html": [
       "<div>\n",
       "<style scoped>\n",
       "    .dataframe tbody tr th:only-of-type {\n",
       "        vertical-align: middle;\n",
       "    }\n",
       "\n",
       "    .dataframe tbody tr th {\n",
       "        vertical-align: top;\n",
       "    }\n",
       "\n",
       "    .dataframe thead th {\n",
       "        text-align: right;\n",
       "    }\n",
       "</style>\n",
       "<table border=\"1\" class=\"dataframe\">\n",
       "  <thead>\n",
       "    <tr style=\"text-align: right;\">\n",
       "      <th></th>\n",
       "      <th>timestamp</th>\n",
       "      <th>temperatura</th>\n",
       "      <th>vibracion</th>\n",
       "      <th>presion</th>\n",
       "      <th>falla</th>\n",
       "    </tr>\n",
       "  </thead>\n",
       "  <tbody>\n",
       "    <tr>\n",
       "      <th>0</th>\n",
       "      <td>2024-01-01 00:00:00</td>\n",
       "      <td>72.48</td>\n",
       "      <td>2.79</td>\n",
       "      <td>28.64</td>\n",
       "      <td>0</td>\n",
       "    </tr>\n",
       "    <tr>\n",
       "      <th>1</th>\n",
       "      <td>2024-01-01 01:00:00</td>\n",
       "      <td>69.31</td>\n",
       "      <td>2.77</td>\n",
       "      <td>29.39</td>\n",
       "      <td>0</td>\n",
       "    </tr>\n",
       "    <tr>\n",
       "      <th>2</th>\n",
       "      <td>2024-01-01 02:00:00</td>\n",
       "      <td>73.24</td>\n",
       "      <td>2.10</td>\n",
       "      <td>28.81</td>\n",
       "      <td>0</td>\n",
       "    </tr>\n",
       "    <tr>\n",
       "      <th>3</th>\n",
       "      <td>2024-01-01 03:00:00</td>\n",
       "      <td>77.62</td>\n",
       "      <td>2.83</td>\n",
       "      <td>30.22</td>\n",
       "      <td>0</td>\n",
       "    </tr>\n",
       "    <tr>\n",
       "      <th>4</th>\n",
       "      <td>2024-01-01 04:00:00</td>\n",
       "      <td>68.83</td>\n",
       "      <td>3.37</td>\n",
       "      <td>32.39</td>\n",
       "      <td>0</td>\n",
       "    </tr>\n",
       "  </tbody>\n",
       "</table>\n",
       "</div>"
      ],
      "text/plain": [
       "             timestamp  temperatura  vibracion  presion  falla\n",
       "0  2024-01-01 00:00:00        72.48       2.79    28.64      0\n",
       "1  2024-01-01 01:00:00        69.31       2.77    29.39      0\n",
       "2  2024-01-01 02:00:00        73.24       2.10    28.81      0\n",
       "3  2024-01-01 03:00:00        77.62       2.83    30.22      0\n",
       "4  2024-01-01 04:00:00        68.83       3.37    32.39      0"
      ]
     },
     "execution_count": 3,
     "metadata": {},
     "output_type": "execute_result"
    }
   ],
   "source": [
    "df = load_data(RAW_DATA_PATH)\n",
    "logger.info(\"Datos crudos cargados.\")\n",
    "validar_dataframe(df)\n",
    "df.head()\n"
   ]
  },
  {
   "cell_type": "code",
   "execution_count": 4,
   "metadata": {},
   "outputs": [
    {
     "name": "stderr",
     "output_type": "stream",
     "text": [
      "2025-04-02 22:22:37,015 [INFO] Datos limpios (sin filas nulas).\n",
      "2025-04-02 22:22:37,032 [INFO] Feature engineering aplicado.\n"
     ]
    },
    {
     "data": {
      "text/html": [
       "<div>\n",
       "<style scoped>\n",
       "    .dataframe tbody tr th:only-of-type {\n",
       "        vertical-align: middle;\n",
       "    }\n",
       "\n",
       "    .dataframe tbody tr th {\n",
       "        vertical-align: top;\n",
       "    }\n",
       "\n",
       "    .dataframe thead th {\n",
       "        text-align: right;\n",
       "    }\n",
       "</style>\n",
       "<table border=\"1\" class=\"dataframe\">\n",
       "  <thead>\n",
       "    <tr style=\"text-align: right;\">\n",
       "      <th></th>\n",
       "      <th>temperatura</th>\n",
       "      <th>vibracion</th>\n",
       "      <th>presion</th>\n",
       "      <th>falla</th>\n",
       "      <th>hora</th>\n",
       "      <th>dia_semana</th>\n",
       "    </tr>\n",
       "  </thead>\n",
       "  <tbody>\n",
       "    <tr>\n",
       "      <th>0</th>\n",
       "      <td>72.48</td>\n",
       "      <td>2.79</td>\n",
       "      <td>28.64</td>\n",
       "      <td>0</td>\n",
       "      <td>0</td>\n",
       "      <td>0</td>\n",
       "    </tr>\n",
       "    <tr>\n",
       "      <th>1</th>\n",
       "      <td>69.31</td>\n",
       "      <td>2.77</td>\n",
       "      <td>29.39</td>\n",
       "      <td>0</td>\n",
       "      <td>1</td>\n",
       "      <td>0</td>\n",
       "    </tr>\n",
       "    <tr>\n",
       "      <th>2</th>\n",
       "      <td>73.24</td>\n",
       "      <td>2.10</td>\n",
       "      <td>28.81</td>\n",
       "      <td>0</td>\n",
       "      <td>2</td>\n",
       "      <td>0</td>\n",
       "    </tr>\n",
       "    <tr>\n",
       "      <th>3</th>\n",
       "      <td>77.62</td>\n",
       "      <td>2.83</td>\n",
       "      <td>30.22</td>\n",
       "      <td>0</td>\n",
       "      <td>3</td>\n",
       "      <td>0</td>\n",
       "    </tr>\n",
       "    <tr>\n",
       "      <th>4</th>\n",
       "      <td>68.83</td>\n",
       "      <td>3.37</td>\n",
       "      <td>32.39</td>\n",
       "      <td>0</td>\n",
       "      <td>4</td>\n",
       "      <td>0</td>\n",
       "    </tr>\n",
       "  </tbody>\n",
       "</table>\n",
       "</div>"
      ],
      "text/plain": [
       "   temperatura  vibracion  presion  falla  hora  dia_semana\n",
       "0        72.48       2.79    28.64      0     0           0\n",
       "1        69.31       2.77    29.39      0     1           0\n",
       "2        73.24       2.10    28.81      0     2           0\n",
       "3        77.62       2.83    30.22      0     3           0\n",
       "4        68.83       3.37    32.39      0     4           0"
      ]
     },
     "execution_count": 4,
     "metadata": {},
     "output_type": "execute_result"
    }
   ],
   "source": [
    "df = clean_data(df)\n",
    "logger.info(\"Datos limpios (sin filas nulas).\")\n",
    "\n",
    "df = feature_engineering(df)\n",
    "logger.info(\"Feature engineering aplicado.\")\n",
    "df.head()\n"
   ]
  },
  {
   "cell_type": "code",
   "execution_count": 5,
   "metadata": {},
   "outputs": [
    {
     "name": "stderr",
     "output_type": "stream",
     "text": [
      "2025-04-02 22:22:44,939 [INFO] Escalado y división realizados.\n"
     ]
    }
   ],
   "source": [
    "X_train_scaled, X_test_scaled, y_train, y_test = scale_and_split(df, target='falla')\n",
    "logger.info(\"Escalado y división realizados.\")\n"
   ]
  },
  {
   "cell_type": "code",
   "execution_count": 6,
   "metadata": {},
   "outputs": [
    {
     "name": "stderr",
     "output_type": "stream",
     "text": [
      "2025-04-02 22:22:56,633 [INFO] Conjuntos guardados en 'processed/'.\n"
     ]
    }
   ],
   "source": [
    "os.makedirs(PROCESSED_DATA_PATH, exist_ok=True)\n",
    "\n",
    "X_train_scaled.to_csv(os.path.join(PROCESSED_DATA_PATH, \"X_train_scaled.csv\"), index=False)\n",
    "X_test_scaled.to_csv(os.path.join(PROCESSED_DATA_PATH, \"X_test_scaled.csv\"), index=False)\n",
    "y_train.to_csv(os.path.join(PROCESSED_DATA_PATH, \"y_train.csv\"), index=False)\n",
    "y_test.to_csv(os.path.join(PROCESSED_DATA_PATH, \"y_test.csv\"), index=False)\n",
    "\n",
    "logger.info(\"Conjuntos guardados en 'processed/'.\")\n"
   ]
  }
 ],
 "metadata": {
  "kernelspec": {
   "display_name": "real_time_predictive_monitoring",
   "language": "python",
   "name": "python3"
  },
  "language_info": {
   "codemirror_mode": {
    "name": "ipython",
    "version": 3
   },
   "file_extension": ".py",
   "mimetype": "text/x-python",
   "name": "python",
   "nbconvert_exporter": "python",
   "pygments_lexer": "ipython3",
   "version": "3.10.13"
  }
 },
 "nbformat": 4,
 "nbformat_minor": 2
}
