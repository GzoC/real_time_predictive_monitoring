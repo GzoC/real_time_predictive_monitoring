{
 "cells": [
  {
   "cell_type": "code",
   "execution_count": null,
   "metadata": {},
   "outputs": [],
   "source": [
    "# Nueva importación modularizada y simplificada\n",
    "from src.preprocessing import load_data, clean_data, feature_engineering, scale_and_split"
   ]
  },
  {
   "cell_type": "code",
   "execution_count": null,
   "metadata": {},
   "outputs": [
    {
     "data": {
      "text/html": [
       "<div>\n",
       "<style scoped>\n",
       "    .dataframe tbody tr th:only-of-type {\n",
       "        vertical-align: middle;\n",
       "    }\n",
       "\n",
       "    .dataframe tbody tr th {\n",
       "        vertical-align: top;\n",
       "    }\n",
       "\n",
       "    .dataframe thead th {\n",
       "        text-align: right;\n",
       "    }\n",
       "</style>\n",
       "<table border=\"1\" class=\"dataframe\">\n",
       "  <thead>\n",
       "    <tr style=\"text-align: right;\">\n",
       "      <th></th>\n",
       "      <th>timestamp</th>\n",
       "      <th>temperatura</th>\n",
       "      <th>vibracion</th>\n",
       "      <th>presion</th>\n",
       "      <th>falla</th>\n",
       "    </tr>\n",
       "  </thead>\n",
       "  <tbody>\n",
       "    <tr>\n",
       "      <th>0</th>\n",
       "      <td>2024-01-01 00:00:00</td>\n",
       "      <td>72.48</td>\n",
       "      <td>2.79</td>\n",
       "      <td>28.64</td>\n",
       "      <td>0</td>\n",
       "    </tr>\n",
       "    <tr>\n",
       "      <th>1</th>\n",
       "      <td>2024-01-01 01:00:00</td>\n",
       "      <td>69.31</td>\n",
       "      <td>2.77</td>\n",
       "      <td>29.39</td>\n",
       "      <td>0</td>\n",
       "    </tr>\n",
       "    <tr>\n",
       "      <th>2</th>\n",
       "      <td>2024-01-01 02:00:00</td>\n",
       "      <td>73.24</td>\n",
       "      <td>2.10</td>\n",
       "      <td>28.81</td>\n",
       "      <td>0</td>\n",
       "    </tr>\n",
       "    <tr>\n",
       "      <th>3</th>\n",
       "      <td>2024-01-01 03:00:00</td>\n",
       "      <td>77.62</td>\n",
       "      <td>2.83</td>\n",
       "      <td>30.22</td>\n",
       "      <td>0</td>\n",
       "    </tr>\n",
       "    <tr>\n",
       "      <th>4</th>\n",
       "      <td>2024-01-01 04:00:00</td>\n",
       "      <td>68.83</td>\n",
       "      <td>3.37</td>\n",
       "      <td>32.39</td>\n",
       "      <td>0</td>\n",
       "    </tr>\n",
       "  </tbody>\n",
       "</table>\n",
       "</div>"
      ],
      "text/plain": [
       "             timestamp  temperatura  vibracion  presion  falla\n",
       "0  2024-01-01 00:00:00        72.48       2.79    28.64      0\n",
       "1  2024-01-01 01:00:00        69.31       2.77    29.39      0\n",
       "2  2024-01-01 02:00:00        73.24       2.10    28.81      0\n",
       "3  2024-01-01 03:00:00        77.62       2.83    30.22      0\n",
       "4  2024-01-01 04:00:00        68.83       3.37    32.39      0"
      ]
     },
     "execution_count": 3,
     "metadata": {},
     "output_type": "execute_result"
    }
   ],
   "source": [
    "data_path = \"../data/raw/sensor_data.csv\"\n",
    "df = load_data(data_path)  # Usa función modularizada"
   ]
  },
  {
   "cell_type": "code",
   "execution_count": 4,
   "metadata": {},
   "outputs": [
    {
     "name": "stdout",
     "output_type": "stream",
     "text": [
      "✅ Confirmado: No existen datos faltantes en el dataset.\n"
     ]
    }
   ],
   "source": [
    "# Comprobación inicial de valores faltantes\n",
    "faltantes = df.isnull().sum().sum()\n",
    "\n",
    "# Tratamiento condicional según existencia de datos faltantes\n",
    "if faltantes > 0:\n",
    "    # Eliminar filas con datos faltantes (alternativamente se podría imputar)\n",
    "    df = df.dropna().reset_index(drop=True)\n",
    "    print(f\"✅ Se eliminaron filas con datos faltantes. Filas restantes: {len(df)}\")\n",
    "else:\n",
    "    print(\"✅ Confirmado: No existen datos faltantes en el dataset.\")\n"
   ]
  },
  {
   "cell_type": "code",
   "execution_count": 5,
   "metadata": {},
   "outputs": [
    {
     "data": {
      "text/html": [
       "<div>\n",
       "<style scoped>\n",
       "    .dataframe tbody tr th:only-of-type {\n",
       "        vertical-align: middle;\n",
       "    }\n",
       "\n",
       "    .dataframe tbody tr th {\n",
       "        vertical-align: top;\n",
       "    }\n",
       "\n",
       "    .dataframe thead th {\n",
       "        text-align: right;\n",
       "    }\n",
       "</style>\n",
       "<table border=\"1\" class=\"dataframe\">\n",
       "  <thead>\n",
       "    <tr style=\"text-align: right;\">\n",
       "      <th></th>\n",
       "      <th>temperatura</th>\n",
       "      <th>vibracion</th>\n",
       "      <th>presion</th>\n",
       "      <th>falla</th>\n",
       "      <th>hora</th>\n",
       "      <th>dia_semana</th>\n",
       "    </tr>\n",
       "  </thead>\n",
       "  <tbody>\n",
       "    <tr>\n",
       "      <th>0</th>\n",
       "      <td>72.48</td>\n",
       "      <td>2.79</td>\n",
       "      <td>28.64</td>\n",
       "      <td>0</td>\n",
       "      <td>0</td>\n",
       "      <td>0</td>\n",
       "    </tr>\n",
       "    <tr>\n",
       "      <th>1</th>\n",
       "      <td>69.31</td>\n",
       "      <td>2.77</td>\n",
       "      <td>29.39</td>\n",
       "      <td>0</td>\n",
       "      <td>1</td>\n",
       "      <td>0</td>\n",
       "    </tr>\n",
       "    <tr>\n",
       "      <th>2</th>\n",
       "      <td>73.24</td>\n",
       "      <td>2.10</td>\n",
       "      <td>28.81</td>\n",
       "      <td>0</td>\n",
       "      <td>2</td>\n",
       "      <td>0</td>\n",
       "    </tr>\n",
       "    <tr>\n",
       "      <th>3</th>\n",
       "      <td>77.62</td>\n",
       "      <td>2.83</td>\n",
       "      <td>30.22</td>\n",
       "      <td>0</td>\n",
       "      <td>3</td>\n",
       "      <td>0</td>\n",
       "    </tr>\n",
       "    <tr>\n",
       "      <th>4</th>\n",
       "      <td>68.83</td>\n",
       "      <td>3.37</td>\n",
       "      <td>32.39</td>\n",
       "      <td>0</td>\n",
       "      <td>4</td>\n",
       "      <td>0</td>\n",
       "    </tr>\n",
       "  </tbody>\n",
       "</table>\n",
       "</div>"
      ],
      "text/plain": [
       "   temperatura  vibracion  presion  falla  hora  dia_semana\n",
       "0        72.48       2.79    28.64      0     0           0\n",
       "1        69.31       2.77    29.39      0     1           0\n",
       "2        73.24       2.10    28.81      0     2           0\n",
       "3        77.62       2.83    30.22      0     3           0\n",
       "4        68.83       3.37    32.39      0     4           0"
      ]
     },
     "execution_count": 5,
     "metadata": {},
     "output_type": "execute_result"
    }
   ],
   "source": [
    "# Convertimos columna timestamp al formato datetime\n",
    "df['timestamp'] = pd.to_datetime(df['timestamp'])\n",
    "\n",
    "# Creamos nuevas características temporales a partir del timestamp\n",
    "df['hora'] = df['timestamp'].dt.hour             # Extraemos la hora del día\n",
    "df['dia_semana'] = df['timestamp'].dt.dayofweek  # Día de la semana (0: lunes, 6: domingo)\n",
    "\n",
    "# Eliminamos columna timestamp original (no útil directamente para el modelo)\n",
    "df = df.drop(columns=['timestamp'])\n",
    "\n",
    "# Verificamos la nueva estructura del dataset\n",
    "df.head()\n"
   ]
  },
  {
   "cell_type": "code",
   "execution_count": 6,
   "metadata": {},
   "outputs": [
    {
     "name": "stdout",
     "output_type": "stream",
     "text": [
      "Tamaño de características (X): (5000, 5)\n",
      "Tamaño de variable objetivo (y): (5000,)\n"
     ]
    }
   ],
   "source": [
    "# Variable objetivo: detección de fallas\n",
    "y = df['falla']\n",
    "\n",
    "# Variables predictoras: todas excepto 'falla'\n",
    "X = df.drop(columns=['falla'])\n",
    "\n",
    "# Confirmamos dimensiones de los datasets\n",
    "print(f\"Tamaño de características (X): {X.shape}\")\n",
    "print(f\"Tamaño de variable objetivo (y): {y.shape}\")"
   ]
  },
  {
   "cell_type": "code",
   "execution_count": 7,
   "metadata": {},
   "outputs": [
    {
     "name": "stdout",
     "output_type": "stream",
     "text": [
      "Conjunto de entrenamiento: (4000, 5) (4000,)\n",
      "Conjunto de prueba: (1000, 5) (1000,)\n"
     ]
    }
   ],
   "source": [
    "# División de los datos en conjunto de entrenamiento (80%) y prueba (20%)\n",
    "X_train, X_test, y_train, y_test = train_test_split(\n",
    "    X, y, \n",
    "    test_size=0.2,                    # 20% para prueba\n",
    "    random_state=42,                  # Asegura reproducibilidad\n",
    "    stratify=y                        # Distribución proporcional de la variable objetivo\n",
    ")\n",
    "\n",
    "# Verificación de tamaño\n",
    "print(\"Conjunto de entrenamiento:\", X_train.shape, y_train.shape)\n",
    "print(\"Conjunto de prueba:\", X_test.shape, y_test.shape)\n"
   ]
  },
  {
   "cell_type": "code",
   "execution_count": null,
   "metadata": {},
   "outputs": [
    {
     "data": {
      "text/html": [
       "<div>\n",
       "<style scoped>\n",
       "    .dataframe tbody tr th:only-of-type {\n",
       "        vertical-align: middle;\n",
       "    }\n",
       "\n",
       "    .dataframe tbody tr th {\n",
       "        vertical-align: top;\n",
       "    }\n",
       "\n",
       "    .dataframe thead th {\n",
       "        text-align: right;\n",
       "    }\n",
       "</style>\n",
       "<table border=\"1\" class=\"dataframe\">\n",
       "  <thead>\n",
       "    <tr style=\"text-align: right;\">\n",
       "      <th></th>\n",
       "      <th>temperatura</th>\n",
       "      <th>vibracion</th>\n",
       "      <th>presion</th>\n",
       "      <th>hora</th>\n",
       "      <th>dia_semana</th>\n",
       "    </tr>\n",
       "  </thead>\n",
       "  <tbody>\n",
       "    <tr>\n",
       "      <th>0</th>\n",
       "      <td>0.185706</td>\n",
       "      <td>-0.731048</td>\n",
       "      <td>0.249640</td>\n",
       "      <td>1.230223</td>\n",
       "      <td>1.014544</td>\n",
       "    </tr>\n",
       "    <tr>\n",
       "      <th>1</th>\n",
       "      <td>-1.169397</td>\n",
       "      <td>-0.174283</td>\n",
       "      <td>-1.091506</td>\n",
       "      <td>-0.217056</td>\n",
       "      <td>0.514768</td>\n",
       "    </tr>\n",
       "    <tr>\n",
       "      <th>2</th>\n",
       "      <td>0.738605</td>\n",
       "      <td>-0.194167</td>\n",
       "      <td>0.927692</td>\n",
       "      <td>0.361856</td>\n",
       "      <td>-0.984557</td>\n",
       "    </tr>\n",
       "    <tr>\n",
       "      <th>3</th>\n",
       "      <td>0.274170</td>\n",
       "      <td>-1.148623</td>\n",
       "      <td>0.783107</td>\n",
       "      <td>0.651311</td>\n",
       "      <td>-1.484332</td>\n",
       "    </tr>\n",
       "    <tr>\n",
       "      <th>4</th>\n",
       "      <td>0.439034</td>\n",
       "      <td>1.973243</td>\n",
       "      <td>0.837949</td>\n",
       "      <td>-0.072328</td>\n",
       "      <td>-1.484332</td>\n",
       "    </tr>\n",
       "  </tbody>\n",
       "</table>\n",
       "</div>"
      ],
      "text/plain": [
       "   temperatura  vibracion   presion      hora  dia_semana\n",
       "0     0.185706  -0.731048  0.249640  1.230223    1.014544\n",
       "1    -1.169397  -0.174283 -1.091506 -0.217056    0.514768\n",
       "2     0.738605  -0.194167  0.927692  0.361856   -0.984557\n",
       "3     0.274170  -1.148623  0.783107  0.651311   -1.484332\n",
       "4     0.439034   1.973243  0.837949 -0.072328   -1.484332"
      ]
     },
     "execution_count": 8,
     "metadata": {},
     "output_type": "execute_result"
    }
   ],
   "source": [
    "# Instancia del escalador estándar\n",
    "scaler = StandardScaler()\n",
    "\n",
    "# Ajuste del escalador solo en datos de entrenamiento y transformación\n",
    "X_train_scaled = scaler.fit_transform(X_train)\n",
    "\n",
    "# Aplicar la transformación ajustada al conjunto de prueba\n",
    "X_test_scaled = scaler.transform(X_test)\n",
    "\n",
    "# Convertimos nuevamente en DataFrames por comodidad\n",
    "X_train_scaled = pd.DataFrame(X_train_scaled, columns=X_train.columns)\n",
    "X_test_scaled = pd.DataFrame(X_test_scaled, columns=X_test.columns)\n",
    "\n",
    "# Mostramos un ejemplo de cómo quedaron escalados los datos\n",
    "X_train_scaled.head()"
   ]
  },
  {
   "cell_type": "code",
   "execution_count": 9,
   "metadata": {},
   "outputs": [
    {
     "name": "stdout",
     "output_type": "stream",
     "text": [
      "✅ Datos procesados guardados correctamente.\n"
     ]
    }
   ],
   "source": [
    "# Rutas para guardar los datos procesados\n",
    "processed_path = \"../data/processed/\"\n",
    "os.makedirs(processed_path, exist_ok=True)  # Crea carpeta si no existe\n",
    "\n",
    "# Guardamos los datos procesados\n",
    "X_train_scaled.to_csv(processed_path + 'X_train_scaled.csv', index=False)\n",
    "X_test_scaled.to_csv(processed_path + 'X_test_scaled.csv', index=False)\n",
    "y_train.to_csv(processed_path + 'y_train.csv', index=False)\n",
    "y_test.to_csv(processed_path + 'y_test.csv', index=False)\n",
    "\n",
    "print(\"✅ Datos procesados guardados correctamente.\")"
   ]
  }
 ],
 "metadata": {
  "kernelspec": {
   "display_name": "real_time_predictive_monitoring",
   "language": "python",
   "name": "python3"
  },
  "language_info": {
   "codemirror_mode": {
    "name": "ipython",
    "version": 3
   },
   "file_extension": ".py",
   "mimetype": "text/x-python",
   "name": "python",
   "nbconvert_exporter": "python",
   "pygments_lexer": "ipython3",
   "version": "3.10.13"
  }
 },
 "nbformat": 4,
 "nbformat_minor": 2
}
