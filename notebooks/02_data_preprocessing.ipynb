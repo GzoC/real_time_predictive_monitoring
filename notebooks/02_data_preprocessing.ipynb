{
 "cells": [
  {
   "cell_type": "code",
   "execution_count": null,
   "metadata": {},
   "outputs": [],
   "source": [
    "# Nueva importación modularizada y simplificada\n",
    "from src.preprocessing import load_data, clean_data, feature_engineering, scale_and_split"
   ]
  },
  {
   "cell_type": "code",
   "execution_count": null,
   "metadata": {},
   "outputs": [
    {
     "data": {
      "text/html": [
       "<div>\n",
       "<style scoped>\n",
       "    .dataframe tbody tr th:only-of-type {\n",
       "        vertical-align: middle;\n",
       "    }\n",
       "\n",
       "    .dataframe tbody tr th {\n",
       "        vertical-align: top;\n",
       "    }\n",
       "\n",
       "    .dataframe thead th {\n",
       "        text-align: right;\n",
       "    }\n",
       "</style>\n",
       "<table border=\"1\" class=\"dataframe\">\n",
       "  <thead>\n",
       "    <tr style=\"text-align: right;\">\n",
       "      <th></th>\n",
       "      <th>timestamp</th>\n",
       "      <th>temperatura</th>\n",
       "      <th>vibracion</th>\n",
       "      <th>presion</th>\n",
       "      <th>falla</th>\n",
       "    </tr>\n",
       "  </thead>\n",
       "  <tbody>\n",
       "    <tr>\n",
       "      <th>0</th>\n",
       "      <td>2024-01-01 00:00:00</td>\n",
       "      <td>72.48</td>\n",
       "      <td>2.79</td>\n",
       "      <td>28.64</td>\n",
       "      <td>0</td>\n",
       "    </tr>\n",
       "    <tr>\n",
       "      <th>1</th>\n",
       "      <td>2024-01-01 01:00:00</td>\n",
       "      <td>69.31</td>\n",
       "      <td>2.77</td>\n",
       "      <td>29.39</td>\n",
       "      <td>0</td>\n",
       "    </tr>\n",
       "    <tr>\n",
       "      <th>2</th>\n",
       "      <td>2024-01-01 02:00:00</td>\n",
       "      <td>73.24</td>\n",
       "      <td>2.10</td>\n",
       "      <td>28.81</td>\n",
       "      <td>0</td>\n",
       "    </tr>\n",
       "    <tr>\n",
       "      <th>3</th>\n",
       "      <td>2024-01-01 03:00:00</td>\n",
       "      <td>77.62</td>\n",
       "      <td>2.83</td>\n",
       "      <td>30.22</td>\n",
       "      <td>0</td>\n",
       "    </tr>\n",
       "    <tr>\n",
       "      <th>4</th>\n",
       "      <td>2024-01-01 04:00:00</td>\n",
       "      <td>68.83</td>\n",
       "      <td>3.37</td>\n",
       "      <td>32.39</td>\n",
       "      <td>0</td>\n",
       "    </tr>\n",
       "  </tbody>\n",
       "</table>\n",
       "</div>"
      ],
      "text/plain": [
       "             timestamp  temperatura  vibracion  presion  falla\n",
       "0  2024-01-01 00:00:00        72.48       2.79    28.64      0\n",
       "1  2024-01-01 01:00:00        69.31       2.77    29.39      0\n",
       "2  2024-01-01 02:00:00        73.24       2.10    28.81      0\n",
       "3  2024-01-01 03:00:00        77.62       2.83    30.22      0\n",
       "4  2024-01-01 04:00:00        68.83       3.37    32.39      0"
      ]
     },
     "execution_count": 3,
     "metadata": {},
     "output_type": "execute_result"
    }
   ],
   "source": [
    "data_path = \"../data/raw/sensor_data.csv\"\n",
    "df = load_data(data_path)  # Usa función modularizada"
   ]
  },
  {
   "cell_type": "code",
   "execution_count": null,
   "metadata": {},
   "outputs": [
    {
     "name": "stdout",
     "output_type": "stream",
     "text": [
      "✅ Confirmado: No existen datos faltantes en el dataset.\n"
     ]
    }
   ],
   "source": [
    "df = clean_data(df)  # Función modularizada realiza esto automáticamente"
   ]
  },
  {
   "cell_type": "code",
   "execution_count": null,
   "metadata": {},
   "outputs": [
    {
     "data": {
      "text/html": [
       "<div>\n",
       "<style scoped>\n",
       "    .dataframe tbody tr th:only-of-type {\n",
       "        vertical-align: middle;\n",
       "    }\n",
       "\n",
       "    .dataframe tbody tr th {\n",
       "        vertical-align: top;\n",
       "    }\n",
       "\n",
       "    .dataframe thead th {\n",
       "        text-align: right;\n",
       "    }\n",
       "</style>\n",
       "<table border=\"1\" class=\"dataframe\">\n",
       "  <thead>\n",
       "    <tr style=\"text-align: right;\">\n",
       "      <th></th>\n",
       "      <th>temperatura</th>\n",
       "      <th>vibracion</th>\n",
       "      <th>presion</th>\n",
       "      <th>falla</th>\n",
       "      <th>hora</th>\n",
       "      <th>dia_semana</th>\n",
       "    </tr>\n",
       "  </thead>\n",
       "  <tbody>\n",
       "    <tr>\n",
       "      <th>0</th>\n",
       "      <td>72.48</td>\n",
       "      <td>2.79</td>\n",
       "      <td>28.64</td>\n",
       "      <td>0</td>\n",
       "      <td>0</td>\n",
       "      <td>0</td>\n",
       "    </tr>\n",
       "    <tr>\n",
       "      <th>1</th>\n",
       "      <td>69.31</td>\n",
       "      <td>2.77</td>\n",
       "      <td>29.39</td>\n",
       "      <td>0</td>\n",
       "      <td>1</td>\n",
       "      <td>0</td>\n",
       "    </tr>\n",
       "    <tr>\n",
       "      <th>2</th>\n",
       "      <td>73.24</td>\n",
       "      <td>2.10</td>\n",
       "      <td>28.81</td>\n",
       "      <td>0</td>\n",
       "      <td>2</td>\n",
       "      <td>0</td>\n",
       "    </tr>\n",
       "    <tr>\n",
       "      <th>3</th>\n",
       "      <td>77.62</td>\n",
       "      <td>2.83</td>\n",
       "      <td>30.22</td>\n",
       "      <td>0</td>\n",
       "      <td>3</td>\n",
       "      <td>0</td>\n",
       "    </tr>\n",
       "    <tr>\n",
       "      <th>4</th>\n",
       "      <td>68.83</td>\n",
       "      <td>3.37</td>\n",
       "      <td>32.39</td>\n",
       "      <td>0</td>\n",
       "      <td>4</td>\n",
       "      <td>0</td>\n",
       "    </tr>\n",
       "  </tbody>\n",
       "</table>\n",
       "</div>"
      ],
      "text/plain": [
       "   temperatura  vibracion  presion  falla  hora  dia_semana\n",
       "0        72.48       2.79    28.64      0     0           0\n",
       "1        69.31       2.77    29.39      0     1           0\n",
       "2        73.24       2.10    28.81      0     2           0\n",
       "3        77.62       2.83    30.22      0     3           0\n",
       "4        68.83       3.37    32.39      0     4           0"
      ]
     },
     "execution_count": 5,
     "metadata": {},
     "output_type": "execute_result"
    }
   ],
   "source": [
    "df = feature_engineering(df)  # Ingeniería de características modularizada"
   ]
  },
  {
   "cell_type": "code",
   "execution_count": null,
   "metadata": {},
   "outputs": [
    {
     "name": "stdout",
     "output_type": "stream",
     "text": [
      "Tamaño de características (X): (5000, 5)\n",
      "Tamaño de variable objetivo (y): (5000,)\n"
     ]
    }
   ],
   "source": [
    "# División y escalado modularizados en una sola función\n",
    "X_train_scaled, X_test_scaled, y_train, y_test = scale_and_split(df, target='falla')"
   ]
  },
  {
   "cell_type": "code",
   "execution_count": 9,
   "metadata": {},
   "outputs": [
    {
     "name": "stdout",
     "output_type": "stream",
     "text": [
      "✅ Datos procesados guardados correctamente.\n"
     ]
    }
   ],
   "source": [
    "# Rutas para guardar los datos procesados\n",
    "processed_path = \"../data/processed/\"\n",
    "os.makedirs(processed_path, exist_ok=True)  # Crea carpeta si no existe\n",
    "\n",
    "# Guardamos los datos procesados\n",
    "X_train_scaled.to_csv(processed_path + 'X_train_scaled.csv', index=False)\n",
    "X_test_scaled.to_csv(processed_path + 'X_test_scaled.csv', index=False)\n",
    "y_train.to_csv(processed_path + 'y_train.csv', index=False)\n",
    "y_test.to_csv(processed_path + 'y_test.csv', index=False)\n",
    "\n",
    "print(\"✅ Datos procesados guardados correctamente.\")"
   ]
  }
 ],
 "metadata": {
  "kernelspec": {
   "display_name": "real_time_predictive_monitoring",
   "language": "python",
   "name": "python3"
  },
  "language_info": {
   "codemirror_mode": {
    "name": "ipython",
    "version": 3
   },
   "file_extension": ".py",
   "mimetype": "text/x-python",
   "name": "python",
   "nbconvert_exporter": "python",
   "pygments_lexer": "ipython3",
   "version": "3.10.13"
  }
 },
 "nbformat": 4,
 "nbformat_minor": 2
}
