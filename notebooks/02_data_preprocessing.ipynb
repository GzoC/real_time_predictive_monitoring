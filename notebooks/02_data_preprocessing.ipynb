{
 "cells": [
  {
   "cell_type": "code",
   "execution_count": 2,
   "metadata": {},
   "outputs": [],
   "source": [
    "# Librerías esenciales para el preprocesamiento de datos\n",
    "import pandas as pd                            # Manipulación de datasets\n",
    "import numpy as np                             # Operaciones numéricas\n",
    "from sklearn.model_selection import train_test_split   # División del dataset\n",
    "from sklearn.preprocessing import StandardScaler       # Escalado estándar de características\n",
    "import os                                      # Manejo de rutas y archivos\n",
    "\n",
    "# Configuración general\n",
    "pd.set_option('display.max_columns', None)     # Visualizar todas las columnas del dataset\n"
   ]
  },
  {
   "cell_type": "code",
   "execution_count": 3,
   "metadata": {},
   "outputs": [
    {
     "data": {
      "text/html": [
       "<div>\n",
       "<style scoped>\n",
       "    .dataframe tbody tr th:only-of-type {\n",
       "        vertical-align: middle;\n",
       "    }\n",
       "\n",
       "    .dataframe tbody tr th {\n",
       "        vertical-align: top;\n",
       "    }\n",
       "\n",
       "    .dataframe thead th {\n",
       "        text-align: right;\n",
       "    }\n",
       "</style>\n",
       "<table border=\"1\" class=\"dataframe\">\n",
       "  <thead>\n",
       "    <tr style=\"text-align: right;\">\n",
       "      <th></th>\n",
       "      <th>timestamp</th>\n",
       "      <th>temperatura</th>\n",
       "      <th>vibracion</th>\n",
       "      <th>presion</th>\n",
       "      <th>falla</th>\n",
       "    </tr>\n",
       "  </thead>\n",
       "  <tbody>\n",
       "    <tr>\n",
       "      <th>0</th>\n",
       "      <td>2024-01-01 00:00:00</td>\n",
       "      <td>72.48</td>\n",
       "      <td>2.79</td>\n",
       "      <td>28.64</td>\n",
       "      <td>0</td>\n",
       "    </tr>\n",
       "    <tr>\n",
       "      <th>1</th>\n",
       "      <td>2024-01-01 01:00:00</td>\n",
       "      <td>69.31</td>\n",
       "      <td>2.77</td>\n",
       "      <td>29.39</td>\n",
       "      <td>0</td>\n",
       "    </tr>\n",
       "    <tr>\n",
       "      <th>2</th>\n",
       "      <td>2024-01-01 02:00:00</td>\n",
       "      <td>73.24</td>\n",
       "      <td>2.10</td>\n",
       "      <td>28.81</td>\n",
       "      <td>0</td>\n",
       "    </tr>\n",
       "    <tr>\n",
       "      <th>3</th>\n",
       "      <td>2024-01-01 03:00:00</td>\n",
       "      <td>77.62</td>\n",
       "      <td>2.83</td>\n",
       "      <td>30.22</td>\n",
       "      <td>0</td>\n",
       "    </tr>\n",
       "    <tr>\n",
       "      <th>4</th>\n",
       "      <td>2024-01-01 04:00:00</td>\n",
       "      <td>68.83</td>\n",
       "      <td>3.37</td>\n",
       "      <td>32.39</td>\n",
       "      <td>0</td>\n",
       "    </tr>\n",
       "  </tbody>\n",
       "</table>\n",
       "</div>"
      ],
      "text/plain": [
       "             timestamp  temperatura  vibracion  presion  falla\n",
       "0  2024-01-01 00:00:00        72.48       2.79    28.64      0\n",
       "1  2024-01-01 01:00:00        69.31       2.77    29.39      0\n",
       "2  2024-01-01 02:00:00        73.24       2.10    28.81      0\n",
       "3  2024-01-01 03:00:00        77.62       2.83    30.22      0\n",
       "4  2024-01-01 04:00:00        68.83       3.37    32.39      0"
      ]
     },
     "execution_count": 3,
     "metadata": {},
     "output_type": "execute_result"
    }
   ],
   "source": [
    "# Definimos ruta del archivo original\n",
    "data_path = \"../data/raw/sensor_data.csv\"\n",
    "\n",
    "# Cargamos el dataset en un DataFrame\n",
    "df = pd.read_csv(data_path)\n",
    "\n",
    "# Verificamos visualmente los primeros registros del dataset\n",
    "df.head()\n"
   ]
  },
  {
   "cell_type": "code",
   "execution_count": 4,
   "metadata": {},
   "outputs": [
    {
     "name": "stdout",
     "output_type": "stream",
     "text": [
      "✅ Confirmado: No existen datos faltantes en el dataset.\n"
     ]
    }
   ],
   "source": [
    "# Comprobación inicial de valores faltantes\n",
    "faltantes = df.isnull().sum().sum()\n",
    "\n",
    "# Tratamiento condicional según existencia de datos faltantes\n",
    "if faltantes > 0:\n",
    "    # Eliminar filas con datos faltantes (alternativamente se podría imputar)\n",
    "    df = df.dropna().reset_index(drop=True)\n",
    "    print(f\"✅ Se eliminaron filas con datos faltantes. Filas restantes: {len(df)}\")\n",
    "else:\n",
    "    print(\"✅ Confirmado: No existen datos faltantes en el dataset.\")\n"
   ]
  }
 ],
 "metadata": {
  "kernelspec": {
   "display_name": "real_time_predictive_monitoring",
   "language": "python",
   "name": "python3"
  },
  "language_info": {
   "codemirror_mode": {
    "name": "ipython",
    "version": 3
   },
   "file_extension": ".py",
   "mimetype": "text/x-python",
   "name": "python",
   "nbconvert_exporter": "python",
   "pygments_lexer": "ipython3",
   "version": "3.10.13"
  }
 },
 "nbformat": 4,
 "nbformat_minor": 2
}
