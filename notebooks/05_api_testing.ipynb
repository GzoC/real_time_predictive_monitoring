{
 "cells": [
  {
   "cell_type": "code",
   "execution_count": 1,
   "metadata": {},
   "outputs": [],
   "source": [
    "import requests\n",
    "import json"
   ]
  },
  {
   "cell_type": "code",
   "execution_count": 2,
   "metadata": {},
   "outputs": [],
   "source": [
    "API_URL = \"http://localhost:8000/predict\""
   ]
  },
  {
   "cell_type": "code",
   "execution_count": 6,
   "metadata": {},
   "outputs": [
    {
     "name": "stdout",
     "output_type": "stream",
     "text": [
      "Predicción con datos válidos: {'prediccion': 1, 'resultado': 'Falla ⚠️'}\n"
     ]
    }
   ],
   "source": [
    "datos_validos = {\n",
    "    \"temperatura\": 75,\n",
    "    \"vibracion\": 4.5,\n",
    "    \"presion\": 35,\n",
    "    \"hora\": 14,\n",
    "    \"dia_semana\": 3\n",
    "}\n",
    "\n",
    "response = requests.post(API_URL, json=datos_validos)\n",
    "print(\"Predicción con datos válidos:\", response.json())\n"
   ]
  },
  {
   "cell_type": "code",
   "execution_count": 7,
   "metadata": {},
   "outputs": [
    {
     "name": "stdout",
     "output_type": "stream",
     "text": [
      "Respuesta ante datos inválidos: {'detail': [{'type': 'float_parsing', 'loc': ['body', 'temperatura'], 'msg': 'Input should be a valid number, unable to parse string as a number', 'input': 'alto'}, {'type': 'float_type', 'loc': ['body', 'vibracion'], 'msg': 'Input should be a valid number', 'input': None}, {'type': 'int_parsing', 'loc': ['body', 'hora'], 'msg': 'Input should be a valid integer, unable to parse string as an integer', 'input': 'mañana'}]}\n"
     ]
    }
   ],
   "source": [
    "datos_invalidos = {\n",
    "    \"temperatura\": \"alto\",  # Error intencional de tipo\n",
    "    \"vibracion\": None,\n",
    "    \"presion\": 35,\n",
    "    \"hora\": \"mañana\",\n",
    "    \"dia_semana\": 8\n",
    "}\n",
    "\n",
    "response = requests.post(API_URL, json=datos_invalidos)\n",
    "print(\"Respuesta ante datos inválidos:\", response.json())\n"
   ]
  },
  {
   "cell_type": "code",
   "execution_count": 8,
   "metadata": {},
   "outputs": [
    {
     "name": "stdout",
     "output_type": "stream",
     "text": [
      "Escenario: {'temperatura': 75, 'vibracion': 4.5, 'presion': 35, 'hora': 14, 'dia_semana': 3} \n",
      "Respuesta: {'prediccion': 1, 'resultado': 'Falla ⚠️'} \n",
      "---\n",
      "Escenario: {'temperatura': 'alto', 'vibracion': None, 'presion': 35, 'hora': 'mañana', 'dia_semana': 8} \n",
      "Respuesta: {'detail': [{'type': 'float_parsing', 'loc': ['body', 'temperatura'], 'msg': 'Input should be a valid number, unable to parse string as a number', 'input': 'alto'}, {'type': 'float_type', 'loc': ['body', 'vibracion'], 'msg': 'Input should be a valid number', 'input': None}, {'type': 'int_parsing', 'loc': ['body', 'hora'], 'msg': 'Input should be a valid integer, unable to parse string as an integer', 'input': 'mañana'}]} \n",
      "---\n",
      "Escenario: {'temperatura': 0, 'vibracion': 0, 'presion': 0, 'hora': 0, 'dia_semana': 0} \n",
      "Respuesta: {'prediccion': 0, 'resultado': 'Funcionamiento Normal ✅'} \n",
      "---\n"
     ]
    }
   ],
   "source": [
    "escenarios = [\n",
    "    datos_validos,\n",
    "    datos_invalidos,\n",
    "    {\"temperatura\": 0, \"vibracion\": 0, \"presion\": 0, \"hora\": 0, \"dia_semana\": 0},  # valores extremos bajos\n",
    "]\n",
    "\n",
    "for escenario in escenarios:\n",
    "    resp = requests.post(API_URL, json=escenario)\n",
    "    print(\"Escenario:\", escenario, \"\\nRespuesta:\", resp.json(), \"\\n---\")\n"
   ]
  }
 ],
 "metadata": {
  "kernelspec": {
   "display_name": "real_time_predictive_monitoring",
   "language": "python",
   "name": "python3"
  },
  "language_info": {
   "codemirror_mode": {
    "name": "ipython",
    "version": 3
   },
   "file_extension": ".py",
   "mimetype": "text/x-python",
   "name": "python",
   "nbconvert_exporter": "python",
   "pygments_lexer": "ipython3",
   "version": "3.10.13"
  }
 },
 "nbformat": 4,
 "nbformat_minor": 2
}
