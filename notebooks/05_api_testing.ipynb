{
 "cells": [
  {
   "cell_type": "code",
   "execution_count": 9,
   "metadata": {},
   "outputs": [],
   "source": [
    "# Librerías esenciales para pruebas automatizadas de APIs\n",
    "import requests                     # Librería para hacer peticiones HTTP\n",
    "import json                         # Para manejo estructurado de JSON\n"
   ]
  },
  {
   "cell_type": "code",
   "execution_count": 10,
   "metadata": {},
   "outputs": [],
   "source": [
    "# URL base de la API que queremos probar\n",
    "api_url = \"http://localhost:8000\""
   ]
  },
  {
   "cell_type": "code",
   "execution_count": 11,
   "metadata": {},
   "outputs": [
    {
     "name": "stdout",
     "output_type": "stream",
     "text": [
      "Código de estado: 200\n",
      "Respuesta recibida: {'mensaje': 'API activa y lista para predicciones.'}\n"
     ]
    }
   ],
   "source": [
    "# Prueba rápida para verificar si la API está en funcionamiento\n",
    "response = requests.get(api_url)\n",
    "\n",
    "# Mostrar respuesta\n",
    "print(f\"Código de estado: {response.status_code}\")\n",
    "print(\"Respuesta recibida:\", response.json())\n"
   ]
  },
  {
   "cell_type": "code",
   "execution_count": 12,
   "metadata": {},
   "outputs": [],
   "source": [
    "# Función para probar endpoint predictivo fácilmente\n",
    "def probar_prediccion(datos):\n",
    "    url = f\"{api_url}/predict\"\n",
    "    headers = {\"Content-Type\": \"application/json\"}\n",
    "    response = requests.post(url, data=json.dumps(datos), headers=headers)\n",
    "    return response\n"
   ]
  },
  {
   "cell_type": "code",
   "execution_count": 13,
   "metadata": {},
   "outputs": [
    {
     "name": "stdout",
     "output_type": "stream",
     "text": [
      "✅ Escenario válido:\n",
      "Código de estado: 200\n",
      "Respuesta: {'prediccion': 1, 'resultado': 'Falla ⚠️'}\n"
     ]
    }
   ],
   "source": [
    "# Datos válidos simulando operación normal del equipo\n",
    "datos_validos = {\n",
    "    \"temperatura\": 70,\n",
    "    \"vibracion\": 3,\n",
    "    \"presion\": 30,\n",
    "    \"hora\": 14,\n",
    "    \"dia_semana\": 2\n",
    "}\n",
    "\n",
    "# Realizar predicción con datos válidos\n",
    "respuesta = probar_prediccion(datos_validos)\n",
    "\n",
    "# Mostrar resultados\n",
    "print(\"✅ Escenario válido:\")\n",
    "print(\"Código de estado:\", respuesta.status_code)\n",
    "print(\"Respuesta:\", respuesta.json())\n"
   ]
  },
  {
   "cell_type": "code",
   "execution_count": 14,
   "metadata": {},
   "outputs": [
    {
     "name": "stdout",
     "output_type": "stream",
     "text": [
      "⚠️ Escenario con posible falla:\n",
      "Código de estado: 200\n",
      "Respuesta: {'prediccion': 1, 'resultado': 'Falla ⚠️'}\n"
     ]
    }
   ],
   "source": [
    "# Datos simulando situación probable de fallo\n",
    "datos_falla = {\n",
    "    \"temperatura\": 85,    # temperatura alta, condición de falla\n",
    "    \"vibracion\": 5,       # vibración alta, condición de falla\n",
    "    \"presion\": 31,\n",
    "    \"hora\": 22,\n",
    "    \"dia_semana\": 4\n",
    "}\n",
    "\n",
    "# Realizar predicción con datos de posible falla\n",
    "respuesta = probar_prediccion(datos_falla)\n",
    "\n",
    "# Mostrar resultados\n",
    "print(\"⚠️ Escenario con posible falla:\")\n",
    "print(\"Código de estado:\", respuesta.status_code)\n",
    "print(\"Respuesta:\", respuesta.json())\n"
   ]
  },
  {
   "cell_type": "code",
   "execution_count": 15,
   "metadata": {},
   "outputs": [
    {
     "name": "stdout",
     "output_type": "stream",
     "text": [
      "❌ Escenario inválido (error en datos):\n",
      "Código de estado: 422\n",
      "Respuesta: {'detail': [{'type': 'float_parsing', 'loc': ['body', 'temperatura'], 'msg': 'Input should be a valid number, unable to parse string as a number', 'input': 'muy alta'}]}\n"
     ]
    }
   ],
   "source": [
    "# Datos con un error intencional (dato incorrecto)\n",
    "datos_invalidos = {\n",
    "    \"temperatura\": \"muy alta\",    # Error intencional: texto en lugar de número\n",
    "    \"vibracion\": 3,\n",
    "    \"presion\": 30,\n",
    "    \"hora\": 12,\n",
    "    \"dia_semana\": 1\n",
    "}\n",
    "\n",
    "# Realizar predicción con datos inválidos\n",
    "respuesta = probar_prediccion(datos_invalidos)\n",
    "\n",
    "# Mostrar resultados\n",
    "print(\"❌ Escenario inválido (error en datos):\")\n",
    "print(\"Código de estado:\", respuesta.status_code)\n",
    "print(\"Respuesta:\", respuesta.json())\n",
    "    "
   ]
  },
  {
   "cell_type": "code",
   "execution_count": 16,
   "metadata": {},
   "outputs": [
    {
     "name": "stdout",
     "output_type": "stream",
     "text": [
      "\n",
      "🔹 Resultado de la prueba #1:\n",
      "Datos enviados: {'temperatura': 65, 'vibracion': 2.5, 'presion': 29, 'hora': 10, 'dia_semana': 0}\n",
      "Respuesta: {'prediccion': 1, 'resultado': 'Falla ⚠️'}\n",
      "\n",
      "🔹 Resultado de la prueba #2:\n",
      "Datos enviados: {'temperatura': 90, 'vibracion': 6, 'presion': 33, 'hora': 15, 'dia_semana': 5}\n",
      "Respuesta: {'prediccion': 1, 'resultado': 'Falla ⚠️'}\n",
      "\n",
      "🔹 Resultado de la prueba #3:\n",
      "Datos enviados: {'temperatura': 72, 'vibracion': 3.2, 'presion': 30, 'hora': 9, 'dia_semana': 3}\n",
      "Respuesta: {'prediccion': 1, 'resultado': 'Falla ⚠️'}\n"
     ]
    }
   ],
   "source": [
    "# Ejemplo de múltiples pruebas simultáneas\n",
    "pruebas = [\n",
    "    {\"temperatura\": 65, \"vibracion\": 2.5, \"presion\": 29, \"hora\": 10, \"dia_semana\": 0},\n",
    "    {\"temperatura\": 90, \"vibracion\": 6, \"presion\": 33, \"hora\": 15, \"dia_semana\": 5},\n",
    "    {\"temperatura\": 72, \"vibracion\": 3.2, \"presion\": 30, \"hora\": 9, \"dia_semana\": 3}\n",
    "]\n",
    "\n",
    "# Bucle automático para realizar pruebas\n",
    "for i, prueba in enumerate(pruebas, 1):\n",
    "    respuesta = probar_prediccion(prueba)\n",
    "    print(f\"\\n🔹 Resultado de la prueba #{i}:\")\n",
    "    print(\"Datos enviados:\", prueba)\n",
    "    print(\"Respuesta:\", respuesta.json())\n"
   ]
  },
  {
   "cell_type": "code",
   "execution_count": 17,
   "metadata": {},
   "outputs": [
    {
     "name": "stdout",
     "output_type": "stream",
     "text": [
      "⏳ Tiempo de respuesta de la API: 56.48 milisegundos\n"
     ]
    }
   ],
   "source": [
    "import time\n",
    "\n",
    "inicio = time.time()\n",
    "respuesta = probar_prediccion(datos_validos)\n",
    "fin = time.time()\n",
    "\n",
    "print(\"⏳ Tiempo de respuesta de la API:\", round((fin - inicio)*1000, 2), \"milisegundos\")\n"
   ]
  }
 ],
 "metadata": {
  "kernelspec": {
   "display_name": "real_time_predictive_monitoring",
   "language": "python",
   "name": "python3"
  },
  "language_info": {
   "codemirror_mode": {
    "name": "ipython",
    "version": 3
   },
   "file_extension": ".py",
   "mimetype": "text/x-python",
   "name": "python",
   "nbconvert_exporter": "python",
   "pygments_lexer": "ipython3",
   "version": "3.10.13"
  }
 },
 "nbformat": 4,
 "nbformat_minor": 2
}
