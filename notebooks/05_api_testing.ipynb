{
 "cells": [
  {
   "cell_type": "code",
   "execution_count": 1,
   "metadata": {},
   "outputs": [],
   "source": [
    "# Librerías esenciales para pruebas automatizadas de APIs\n",
    "import requests                     # Librería para hacer peticiones HTTP\n",
    "import json                         # Para manejo estructurado de JSON\n"
   ]
  },
  {
   "cell_type": "code",
   "execution_count": 2,
   "metadata": {},
   "outputs": [],
   "source": [
    "# URL base de la API que queremos probar\n",
    "api_url = \"http://localhost:8000\""
   ]
  },
  {
   "cell_type": "code",
   "execution_count": 4,
   "metadata": {},
   "outputs": [
    {
     "name": "stdout",
     "output_type": "stream",
     "text": [
      "Código de estado: 200\n",
      "Respuesta recibida: {'mensaje': 'API activa y lista para predicciones.'}\n"
     ]
    }
   ],
   "source": [
    "# Prueba rápida para verificar si la API está en funcionamiento\n",
    "response = requests.get(api_url)\n",
    "\n",
    "# Mostrar respuesta\n",
    "print(f\"Código de estado: {response.status_code}\")\n",
    "print(\"Respuesta recibida:\", response.json())\n"
   ]
  },
  {
   "cell_type": "code",
   "execution_count": 5,
   "metadata": {},
   "outputs": [],
   "source": [
    "# Función para probar endpoint predictivo fácilmente\n",
    "def probar_prediccion(datos):\n",
    "    url = f\"{api_url}/predict\"\n",
    "    headers = {\"Content-Type\": \"application/json\"}\n",
    "    response = requests.post(url, data=json.dumps(datos), headers=headers)\n",
    "    return response\n"
   ]
  }
 ],
 "metadata": {
  "kernelspec": {
   "display_name": "real_time_predictive_monitoring",
   "language": "python",
   "name": "python3"
  },
  "language_info": {
   "codemirror_mode": {
    "name": "ipython",
    "version": 3
   },
   "file_extension": ".py",
   "mimetype": "text/x-python",
   "name": "python",
   "nbconvert_exporter": "python",
   "pygments_lexer": "ipython3",
   "version": "3.10.13"
  }
 },
 "nbformat": 4,
 "nbformat_minor": 2
}
