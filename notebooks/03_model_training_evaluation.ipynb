{
 "cells": [
  {
   "cell_type": "code",
   "execution_count": 1,
   "metadata": {},
   "outputs": [],
   "source": [
    "# Librerías esenciales para entrenamiento y evaluación del modelo\n",
    "import pandas as pd                                          # Manejo de datasets\n",
    "import numpy as np                                           # Operaciones numéricas\n",
    "from xgboost import XGBClassifier                            # Modelo predictivo XGBoost\n",
    "from sklearn.metrics import classification_report, confusion_matrix, accuracy_score  # Evaluación del modelo\n",
    "import joblib                                                # Serialización y guardado del modelo entrenado\n",
    "import os                                                    # Manejo de rutas y archivos\n",
    "import matplotlib.pyplot as plt                              # Gráficos\n",
    "import seaborn as sns                                        # Gráficos estadísticos avanzados\n"
   ]
  }
 ],
 "metadata": {
  "kernelspec": {
   "display_name": "real_time_predictive_monitoring",
   "language": "python",
   "name": "python3"
  },
  "language_info": {
   "codemirror_mode": {
    "name": "ipython",
    "version": 3
   },
   "file_extension": ".py",
   "mimetype": "text/x-python",
   "name": "python",
   "nbconvert_exporter": "python",
   "pygments_lexer": "ipython3",
   "version": "3.10.13"
  }
 },
 "nbformat": 4,
 "nbformat_minor": 2
}
