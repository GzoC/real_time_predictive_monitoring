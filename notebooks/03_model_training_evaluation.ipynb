{
 "cells": [
  {
   "cell_type": "code",
   "execution_count": null,
   "metadata": {},
   "outputs": [],
   "source": [
    "# Celda 1: Configuración de imports y rutas\n",
    "import os\n",
    "import sys\n",
    "\n",
    "# Añadir ruta raíz al path\n",
    "proyecto_root = os.path.abspath(os.path.join(\"..\"))\n",
    "if proyecto_root not in sys.path:\n",
    "    sys.path.append(proyecto_root)\n",
    "\n",
    "import pandas as pd\n",
    "from src.modeling import train_model, evaluate_model, plot_confusion_matrix, plot_feature_importances, save_model\n",
    "\n",
    "# Celda 2: Cargar datos procesados\n",
    "X_train = pd.read_csv(\"../data/processed/X_train_scaled.csv\")\n",
    "X_test = pd.read_csv(\"../data/processed/X_test_scaled.csv\")\n",
    "y_train = pd.read_csv(\"../data/processed/y_train.csv\").values.ravel()\n",
    "y_test = pd.read_csv(\"../data/processed/y_test.csv\").values.ravel()\n",
    "\n",
    "# Celda 3 en adelante: Usar funciones del módulo modelado\n",
    "modelo = train_model(X_train, y_train)\n",
    "\n",
    "resultados = evaluate_model(modelo, X_test, y_test)\n",
    "print(resultados['classification_report'])\n",
    "\n",
    "plot_confusion_matrix(resultados['confusion_matrix'])\n",
    "plot_feature_importances(modelo, X_train.columns)\n",
    "\n",
    "save_model(modelo, \"../models/modelo_xgboost.pkl\")\n"
   ]
  }
 ],
 "metadata": {
  "kernelspec": {
   "display_name": "real_time_predictive_monitoring",
   "language": "python",
   "name": "python3"
  },
  "language_info": {
   "codemirror_mode": {
    "name": "ipython",
    "version": 3
   },
   "file_extension": ".py",
   "mimetype": "text/x-python",
   "name": "python",
   "nbconvert_exporter": "python",
   "pygments_lexer": "ipython3",
   "version": "3.10.13"
  }
 },
 "nbformat": 4,
 "nbformat_minor": 2
}
