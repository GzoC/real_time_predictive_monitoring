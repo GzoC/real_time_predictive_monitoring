{
 "cells": [
  {
   "cell_type": "code",
   "execution_count": 1,
   "metadata": {},
   "outputs": [],
   "source": [
    "import sys\n",
    "import os\n",
    "\n",
    "project_root = os.path.abspath(os.path.join(os.getcwd(), '..'))\n",
    "if project_root not in sys.path:\n",
    "    sys.path.append(project_root)\n",
    "\n",
    "import pandas as pd\n",
    "import os\n",
    "from src.modeling import train_model, evaluate_model, save_model\n",
    "from src.config import PROCESSED_DATA_PATH, MODEL_PATH\n",
    "from src.logger import logger\n"
   ]
  },
  {
   "cell_type": "code",
   "execution_count": 2,
   "metadata": {},
   "outputs": [
    {
     "name": "stderr",
     "output_type": "stream",
     "text": [
      "2025-04-02 22:24:35,708 [INFO] Datos procesados cargados.\n"
     ]
    }
   ],
   "source": [
    "X_train = pd.read_csv(os.path.join(PROCESSED_DATA_PATH, \"X_train_scaled.csv\"))\n",
    "y_train = pd.read_csv(os.path.join(PROCESSED_DATA_PATH, \"y_train.csv\")).squeeze()\n",
    "X_test = pd.read_csv(os.path.join(PROCESSED_DATA_PATH, \"X_test_scaled.csv\"))\n",
    "y_test = pd.read_csv(os.path.join(PROCESSED_DATA_PATH, \"y_test.csv\")).squeeze()\n",
    "\n",
    "logger.info(\"Datos procesados cargados.\")\n"
   ]
  },
  {
   "cell_type": "code",
   "execution_count": 3,
   "metadata": {},
   "outputs": [
    {
     "name": "stderr",
     "output_type": "stream",
     "text": [
      "d:\\gzo\\myProjects\\dataAnalyst\\environments\\real_time_predictive_monitoring\\lib\\site-packages\\xgboost\\core.py:158: UserWarning: [22:25:24] WARNING: C:\\b\\abs_90_bwj_86a\\croot\\xgboost-split_1724073762025\\work\\src\\learner.cc:740: \n",
      "Parameters: { \"use_label_encoder\" } are not used.\n",
      "\n",
      "  warnings.warn(smsg, UserWarning)\n",
      "2025-04-02 22:25:24,616 [INFO] Modelo entrenado exitosamente.\n"
     ]
    }
   ],
   "source": [
    "model = train_model(X_train, y_train)\n",
    "logger.info(\"Modelo entrenado exitosamente.\")\n"
   ]
  },
  {
   "cell_type": "code",
   "execution_count": 4,
   "metadata": {},
   "outputs": [
    {
     "name": "stderr",
     "output_type": "stream",
     "text": [
      "2025-04-02 22:25:37,311 [INFO] Evaluación completada. Accuracy: 0.9980\n"
     ]
    },
    {
     "name": "stdout",
     "output_type": "stream",
     "text": [
      "              precision    recall  f1-score   support\n",
      "\n",
      "           0       1.00      1.00      1.00       953\n",
      "           1       0.96      1.00      0.98        47\n",
      "\n",
      "    accuracy                           1.00      1000\n",
      "   macro avg       0.98      1.00      0.99      1000\n",
      "weighted avg       1.00      1.00      1.00      1000\n",
      "\n",
      "[[951   2]\n",
      " [  0  47]]\n"
     ]
    }
   ],
   "source": [
    "resultados = evaluate_model(model, X_test, y_test)\n",
    "logger.info(f\"Evaluación completada. Accuracy: {resultados['accuracy']:.4f}\")\n",
    "print(resultados[\"classification_report\"])\n",
    "print(resultados[\"confusion_matrix\"])\n"
   ]
  },
  {
   "cell_type": "code",
   "execution_count": 5,
   "metadata": {},
   "outputs": [
    {
     "ename": "FileExistsError",
     "evalue": "[WinError 183] No se puede crear un archivo que ya existe: 'd:\\\\gzo\\\\myProjects\\\\dataAnalyst\\\\projects\\\\real_time_predictive_monitoring\\\\models/modelo_xgboost.pkl'",
     "output_type": "error",
     "traceback": [
      "\u001b[1;31m---------------------------------------------------------------------------\u001b[0m",
      "\u001b[1;31mFileExistsError\u001b[0m                           Traceback (most recent call last)",
      "Cell \u001b[1;32mIn[5], line 1\u001b[0m\n\u001b[1;32m----> 1\u001b[0m \u001b[43mos\u001b[49m\u001b[38;5;241;43m.\u001b[39;49m\u001b[43mmakedirs\u001b[49m\u001b[43m(\u001b[49m\u001b[43mMODEL_PATH\u001b[49m\u001b[43m,\u001b[49m\u001b[43m \u001b[49m\u001b[43mexist_ok\u001b[49m\u001b[38;5;241;43m=\u001b[39;49m\u001b[38;5;28;43;01mTrue\u001b[39;49;00m\u001b[43m)\u001b[49m\n\u001b[0;32m      2\u001b[0m modelo_ruta \u001b[38;5;241m=\u001b[39m os\u001b[38;5;241m.\u001b[39mpath\u001b[38;5;241m.\u001b[39mjoin(MODEL_PATH, \u001b[38;5;124m\"\u001b[39m\u001b[38;5;124mxgb_model.pkl\u001b[39m\u001b[38;5;124m\"\u001b[39m)\n\u001b[0;32m      3\u001b[0m save_model(model, modelo_ruta)\n",
      "File \u001b[1;32md:\\gzo\\myProjects\\dataAnalyst\\environments\\real_time_predictive_monitoring\\lib\\os.py:225\u001b[0m, in \u001b[0;36mmakedirs\u001b[1;34m(name, mode, exist_ok)\u001b[0m\n\u001b[0;32m    223\u001b[0m         \u001b[38;5;28;01mreturn\u001b[39;00m\n\u001b[0;32m    224\u001b[0m \u001b[38;5;28;01mtry\u001b[39;00m:\n\u001b[1;32m--> 225\u001b[0m     \u001b[43mmkdir\u001b[49m\u001b[43m(\u001b[49m\u001b[43mname\u001b[49m\u001b[43m,\u001b[49m\u001b[43m \u001b[49m\u001b[43mmode\u001b[49m\u001b[43m)\u001b[49m\n\u001b[0;32m    226\u001b[0m \u001b[38;5;28;01mexcept\u001b[39;00m \u001b[38;5;167;01mOSError\u001b[39;00m:\n\u001b[0;32m    227\u001b[0m     \u001b[38;5;66;03m# Cannot rely on checking for EEXIST, since the operating system\u001b[39;00m\n\u001b[0;32m    228\u001b[0m     \u001b[38;5;66;03m# could give priority to other errors like EACCES or EROFS\u001b[39;00m\n\u001b[0;32m    229\u001b[0m     \u001b[38;5;28;01mif\u001b[39;00m \u001b[38;5;129;01mnot\u001b[39;00m exist_ok \u001b[38;5;129;01mor\u001b[39;00m \u001b[38;5;129;01mnot\u001b[39;00m path\u001b[38;5;241m.\u001b[39misdir(name):\n",
      "\u001b[1;31mFileExistsError\u001b[0m: [WinError 183] No se puede crear un archivo que ya existe: 'd:\\\\gzo\\\\myProjects\\\\dataAnalyst\\\\projects\\\\real_time_predictive_monitoring\\\\models/modelo_xgboost.pkl'"
     ]
    }
   ],
   "source": [
    "os.makedirs(MODEL_PATH, exist_ok=True)\n",
    "modelo_ruta = os.path.join(MODEL_PATH, \"xgb_model.pkl\")\n",
    "save_model(model, modelo_ruta)\n",
    "logger.info(f\"Modelo guardado en {modelo_ruta}\")\n"
   ]
  }
 ],
 "metadata": {
  "kernelspec": {
   "display_name": "real_time_predictive_monitoring",
   "language": "python",
   "name": "python3"
  },
  "language_info": {
   "codemirror_mode": {
    "name": "ipython",
    "version": 3
   },
   "file_extension": ".py",
   "mimetype": "text/x-python",
   "name": "python",
   "nbconvert_exporter": "python",
   "pygments_lexer": "ipython3",
   "version": "3.10.13"
  }
 },
 "nbformat": 4,
 "nbformat_minor": 2
}
