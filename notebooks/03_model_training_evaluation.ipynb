{
 "cells": [
  {
   "cell_type": "code",
   "execution_count": 1,
   "metadata": {},
   "outputs": [],
   "source": [
    "# Librerías esenciales para entrenamiento y evaluación del modelo\n",
    "import pandas as pd                                          # Manejo de datasets\n",
    "import numpy as np                                           # Operaciones numéricas\n",
    "from xgboost import XGBClassifier                            # Modelo predictivo XGBoost\n",
    "from sklearn.metrics import classification_report, confusion_matrix, accuracy_score  # Evaluación del modelo\n",
    "import joblib                                                # Serialización y guardado del modelo entrenado\n",
    "import os                                                    # Manejo de rutas y archivos\n",
    "import matplotlib.pyplot as plt                              # Gráficos\n",
    "import seaborn as sns                                        # Gráficos estadísticos avanzados\n"
   ]
  },
  {
   "cell_type": "code",
   "execution_count": 2,
   "metadata": {},
   "outputs": [
    {
     "name": "stdout",
     "output_type": "stream",
     "text": [
      "✅ Datos cargados correctamente:\n",
      "Entrenamiento: (4000, 5), (4000,)\n",
      "Prueba: (1000, 5), (1000,)\n"
     ]
    }
   ],
   "source": [
    "# Definimos rutas para datasets procesados\n",
    "processed_path = \"../data/processed/\"\n",
    "\n",
    "# Cargamos datasets previamente guardados\n",
    "X_train = pd.read_csv(processed_path + 'X_train_scaled.csv')\n",
    "X_test = pd.read_csv(processed_path + 'X_test_scaled.csv')\n",
    "y_train = pd.read_csv(processed_path + 'y_train.csv').values.ravel()  # Se convierte en array 1D\n",
    "y_test = pd.read_csv(processed_path + 'y_test.csv').values.ravel()\n",
    "\n",
    "# Verificamos la correcta carga de los datos\n",
    "print(\"✅ Datos cargados correctamente:\")\n",
    "print(f\"Entrenamiento: {X_train.shape}, {y_train.shape}\")\n",
    "print(f\"Prueba: {X_test.shape}, {y_test.shape}\")\n"
   ]
  },
  {
   "cell_type": "code",
   "execution_count": 3,
   "metadata": {},
   "outputs": [
    {
     "name": "stdout",
     "output_type": "stream",
     "text": [
      "✅ Modelo XGBoost entrenado exitosamente.\n"
     ]
    },
    {
     "name": "stderr",
     "output_type": "stream",
     "text": [
      "d:\\gzo\\myProjects\\dataAnalyst\\environments\\real_time_predictive_monitoring\\lib\\site-packages\\xgboost\\core.py:158: UserWarning: [18:50:23] WARNING: C:\\b\\abs_90_bwj_86a\\croot\\xgboost-split_1724073762025\\work\\src\\learner.cc:740: \n",
      "Parameters: { \"use_label_encoder\" } are not used.\n",
      "\n",
      "  warnings.warn(smsg, UserWarning)\n"
     ]
    }
   ],
   "source": [
    "# Creación y configuración del modelo XGBoost\n",
    "modelo_xgb = XGBClassifier(\n",
    "    objective='binary:logistic',          # Clasificación binaria (fallo/no fallo)\n",
    "    eval_metric='logloss',                # Métrica de evaluación para optimización\n",
    "    use_label_encoder=False,              # Desactivamos el codificador automático de etiquetas\n",
    "    random_state=42                       # Reproducibilidad del entrenamiento\n",
    ")\n",
    "\n",
    "# Entrenamos el modelo usando el dataset de entrenamiento\n",
    "modelo_xgb.fit(X_train, y_train)\n",
    "\n",
    "print(\"✅ Modelo XGBoost entrenado exitosamente.\")"
   ]
  }
 ],
 "metadata": {
  "kernelspec": {
   "display_name": "real_time_predictive_monitoring",
   "language": "python",
   "name": "python3"
  },
  "language_info": {
   "codemirror_mode": {
    "name": "ipython",
    "version": 3
   },
   "file_extension": ".py",
   "mimetype": "text/x-python",
   "name": "python",
   "nbconvert_exporter": "python",
   "pygments_lexer": "ipython3",
   "version": "3.10.13"
  }
 },
 "nbformat": 4,
 "nbformat_minor": 2
}
