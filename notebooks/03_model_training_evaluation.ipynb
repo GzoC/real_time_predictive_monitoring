{
 "cells": [
  {
   "cell_type": "code",
   "execution_count": 2,
   "metadata": {},
   "outputs": [],
   "source": [
    "# Librerías esenciales para entrenamiento y evaluación del modelo\n",
    "import pandas as pd                                          # Manejo de datasets\n",
    "import numpy as np                                           # Operaciones numéricas\n",
    "from xgboost import XGBClassifier                            # Modelo predictivo XGBoost\n",
    "from sklearn.metrics import classification_report, confusion_matrix, accuracy_score  # Evaluación del modelo\n",
    "import joblib                                                # Serialización y guardado del modelo entrenado\n",
    "import os                                                    # Manejo de rutas y archivos\n",
    "import matplotlib.pyplot as plt                              # Gráficos\n",
    "import seaborn as sns                                        # Gráficos estadísticos avanzados\n"
   ]
  },
  {
   "cell_type": "code",
   "execution_count": 3,
   "metadata": {},
   "outputs": [
    {
     "name": "stdout",
     "output_type": "stream",
     "text": [
      "✅ Datos cargados correctamente:\n",
      "Entrenamiento: (4000, 5), (4000,)\n",
      "Prueba: (1000, 5), (1000,)\n"
     ]
    }
   ],
   "source": [
    "# Definimos rutas para datasets procesados\n",
    "processed_path = \"../data/processed/\"\n",
    "\n",
    "# Cargamos datasets previamente guardados\n",
    "X_train = pd.read_csv(processed_path + 'X_train_scaled.csv')\n",
    "X_test = pd.read_csv(processed_path + 'X_test_scaled.csv')\n",
    "y_train = pd.read_csv(processed_path + 'y_train.csv').values.ravel()  # Se convierte en array 1D\n",
    "y_test = pd.read_csv(processed_path + 'y_test.csv').values.ravel()\n",
    "\n",
    "# Verificamos la correcta carga de los datos\n",
    "print(\"✅ Datos cargados correctamente:\")\n",
    "print(f\"Entrenamiento: {X_train.shape}, {y_train.shape}\")\n",
    "print(f\"Prueba: {X_test.shape}, {y_test.shape}\")\n"
   ]
  },
  {
   "cell_type": "code",
   "execution_count": 4,
   "metadata": {},
   "outputs": [
    {
     "name": "stdout",
     "output_type": "stream",
     "text": [
      "✅ Modelo XGBoost entrenado exitosamente.\n"
     ]
    }
   ],
   "source": [
    "# Creación y configuración del modelo XGBoost\n",
    "modelo_xgb = XGBClassifier(\n",
    "    objective='binary:logistic',          # Clasificación binaria (fallo/no fallo)\n",
    "    eval_metric='logloss',                # Métrica de evaluación para optimización\n",
    "    random_state=42                       # Reproducibilidad del entrenamiento\n",
    ")\n",
    "\n",
    "# Entrenamos el modelo usando el dataset de entrenamiento\n",
    "modelo_xgb.fit(X_train, y_train)\n",
    "\n",
    "print(\"✅ Modelo XGBoost entrenado exitosamente.\")"
   ]
  },
  {
   "cell_type": "code",
   "execution_count": 5,
   "metadata": {},
   "outputs": [
    {
     "name": "stdout",
     "output_type": "stream",
     "text": [
      "✅ Precisión del Modelo (Accuracy): 1.00\n",
      "\n",
      "✅ Matriz de Confusión:\n",
      "[[951   2]\n",
      " [  0  47]] \n",
      "\n",
      "✅ Reporte detallado de clasificación:\n",
      "              precision    recall  f1-score   support\n",
      "\n",
      "           0       1.00      1.00      1.00       953\n",
      "           1       0.96      1.00      0.98        47\n",
      "\n",
      "    accuracy                           1.00      1000\n",
      "   macro avg       0.98      1.00      0.99      1000\n",
      "weighted avg       1.00      1.00      1.00      1000\n",
      "\n"
     ]
    }
   ],
   "source": [
    "# Generamos predicciones sobre el conjunto de prueba\n",
    "y_pred = modelo_xgb.predict(X_test)\n",
    "\n",
    "# Calculamos métricas clave para evaluar desempeño\n",
    "accuracy = accuracy_score(y_test, y_pred)\n",
    "conf_matrix = confusion_matrix(y_test, y_pred)\n",
    "class_report = classification_report(y_test, y_pred)\n",
    "\n",
    "# Mostramos resultados claramente\n",
    "print(f\"✅ Precisión del Modelo (Accuracy): {accuracy:.2f}\\n\")\n",
    "print(\"✅ Matriz de Confusión:\")\n",
    "print(conf_matrix, \"\\n\")\n",
    "print(\"✅ Reporte detallado de clasificación:\")\n",
    "print(class_report)\n"
   ]
  },
  {
   "cell_type": "code",
   "execution_count": 6,
   "metadata": {},
   "outputs": [
    {
     "data": {
      "image/png": "[encoded data removed]",
      "text/plain": [
       "<Figure size 600x400 with 2 Axes>"
      ]
     },
     "metadata": {},
     "output_type": "display_data"
    }
   ],
   "source": [
    "# Gráfica visual de la matriz de confusión para fácil interpretación\n",
    "plt.figure(figsize=(6, 4))\n",
    "sns.heatmap(conf_matrix, annot=True, cmap='Blues', fmt='g')\n",
    "\n",
    "# Configuración adicional para claridad\n",
    "plt.xlabel('Predicción del Modelo')\n",
    "plt.ylabel('Valor Real')\n",
    "plt.title('Matriz de Confusión del Modelo XGBoost')\n",
    "plt.show()\n"
   ]
  }
 ],
 "metadata": {
  "kernelspec": {
   "display_name": "real_time_predictive_monitoring",
   "language": "python",
   "name": "python3"
  },
  "language_info": {
   "codemirror_mode": {
    "name": "ipython",
    "version": 3
   },
   "file_extension": ".py",
   "mimetype": "text/x-python",
   "name": "python",
   "nbconvert_exporter": "python",
   "pygments_lexer": "ipython3",
   "version": "3.10.13"
  }
 },
 "nbformat": 4,
 "nbformat_minor": 2
}
