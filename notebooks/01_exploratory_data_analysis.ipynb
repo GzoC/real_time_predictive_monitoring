{
 "cells": [
  {
   "cell_type": "code",
   "execution_count": null,
   "metadata": {},
   "outputs": [],
   "source": [
    "# Importación de librerías necesarias para el análisis exploratorio\n",
    "import pandas as pd                 # Manipulación de datos tabulares\n",
    "import numpy as np                  # Operaciones numéricas avanzadas\n",
    "import matplotlib.pyplot as plt     # Gráficos básicos\n",
    "import seaborn as sns               # Gráficos estadísticos avanzados\n",
    "import os                           # Acceso a archivos y directorios\n",
    "\n",
    "# Configuración de gráficos para una visualización clara\n",
    "sns.set(style=\"whitegrid\")          # Estilo claro y limpio para gráficos\n"
   ]
  }
 ],
 "metadata": {
  "kernelspec": {
   "display_name": "real_time_predictive_monitoring",
   "language": "python",
   "name": "python3"
  },
  "language_info": {
   "name": "python",
   "version": "3.10.13"
  }
 },
 "nbformat": 4,
 "nbformat_minor": 2
}
