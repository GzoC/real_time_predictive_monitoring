{
 "cells": [
  {
   "cell_type": "code",
   "execution_count": null,
   "metadata": {},
   "outputs": [],
   "source": [
    "# Modifica tu archivo app/main.py así:\n",
    "\n",
    "from fastapi import FastAPI\n",
    "from src.api import DatosEntrada, predict  # Modularización clara\n",
    "\n",
    "app = FastAPI(title=\"API Predictiva para Monitoreo en Tiempo Real\",\n",
    "              description=\"API para predicción de fallas usando modelo XGBoost\")\n",
    "\n",
    "@app.get(\"/\")\n",
    "def read_root():\n",
    "    return {\"mensaje\": \"API activa y lista para predicciones.\"}\n",
    "\n",
    "@app.post(\"/predict\")\n",
    "def realizar_prediccion(datos: DatosEntrada):\n",
    "    return predict(datos)  # Delegación al módulo api.py\n"
   ]
  }
 ],
 "metadata": {
  "kernelspec": {
   "display_name": "real_time_predictive_monitoring",
   "language": "python",
   "name": "python3"
  },
  "language_info": {
   "codemirror_mode": {
    "name": "ipython",
    "version": 3
   },
   "file_extension": ".py",
   "mimetype": "text/x-python",
   "name": "python",
   "nbconvert_exporter": "python",
   "pygments_lexer": "ipython3",
   "version": "3.10.13"
  }
 },
 "nbformat": 4,
 "nbformat_minor": 2
}
