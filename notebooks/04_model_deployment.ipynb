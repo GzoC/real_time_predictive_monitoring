{
 "cells": [
  {
   "cell_type": "code",
   "execution_count": 1,
   "metadata": {},
   "outputs": [],
   "source": [
    "# Importamos librerías esenciales para desplegar el modelo como API\n",
    "from fastapi import FastAPI                             # Framework para creación rápida de APIs\n",
    "from pydantic import BaseModel                          # Validación de datos entrantes\n",
    "import joblib                                           # Cargar el modelo guardado\n",
    "import pandas as pd                                     # Manipulación de datos\n",
    "import uvicorn                                          # Servidor web ASGI"
   ]
  }
 ],
 "metadata": {
  "kernelspec": {
   "display_name": "real_time_predictive_monitoring",
   "language": "python",
   "name": "python3"
  },
  "language_info": {
   "codemirror_mode": {
    "name": "ipython",
    "version": 3
   },
   "file_extension": ".py",
   "mimetype": "text/x-python",
   "name": "python",
   "nbconvert_exporter": "python",
   "pygments_lexer": "ipython3",
   "version": "3.10.13"
  }
 },
 "nbformat": 4,
 "nbformat_minor": 2
}
