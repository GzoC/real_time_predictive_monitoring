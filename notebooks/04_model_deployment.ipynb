{
 "cells": [
  {
   "cell_type": "markdown",
   "metadata": {},
   "source": [
    "# Notebook 04: Implementación del Modelo (API + Dashboard)\n",
    "\n",
    "Este notebook detalla cómo ejecutar localmente la **API** y el **Dashboard** del proyecto. Las implementaciones completas ya se encuentran modularizadas en la carpeta `src/` y la carpeta `app/`.\n",
    "\n",
    "---\n",
    "\n",
    "## ⚡ Ejecutar la API con FastAPI\n",
    "\n",
    "Abre una terminal en la raíz del proyecto y ejecuta:\n",
    "\n",
    "uvicorn app.main:app --reload --port 8000\n",
    "\n",
    "Luego, accede a la documentación interactiva en:\n",
    "\n",
    "http://localhost:8000/docs\n",
    "\n",
    "\n",
    "## 📊 Ejecutar el Dashboard con Streamlit\n",
    "\n",
    "En otra terminal distinta, ejecuta:\n",
    "\n",
    "streamlit run src/dashboard.py\n",
    "\n",
    "Luego, accede al dashboard en:\n",
    "\n",
    "http://localhost:8501"
   ]
  }
 ],
 "metadata": {
  "kernelspec": {
   "display_name": "real_time_predictive_monitoring",
   "language": "python",
   "name": "python3"
  },
  "language_info": {
   "codemirror_mode": {
    "name": "ipython",
    "version": 3
   },
   "file_extension": ".py",
   "mimetype": "text/x-python",
   "name": "python",
   "nbconvert_exporter": "python",
   "pygments_lexer": "ipython3",
   "version": "3.10.13"
  }
 },
 "nbformat": 4,
 "nbformat_minor": 2
}
